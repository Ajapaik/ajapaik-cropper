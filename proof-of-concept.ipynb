{
 "cells": [
  {
   "cell_type": "code",
   "execution_count": 2,
   "metadata": {
    "collapsed": true
   },
   "outputs": [],
   "source": [
    "from PIL import Image, ImageDraw\n",
    "img = Image.open('images/IMG_0915.jpg')"
   ]
  },
  {
   "cell_type": "code",
   "execution_count": 11,
   "metadata": {},
   "outputs": [],
   "source": [
    "center_x = int(img.width / 2)\n",
    "center_y = int(img.height / 2)\n",
    "upper_edge_y = None\n",
    "for i in range(0, img.height):\n",
    "    average_pixel_rgb = sum(img.getpixel((center_x, i))) / 3\n",
    "    # print (average_pixel_rgb)\n",
    "    if not (155 < average_pixel_rgb < 170):\n",
    "        # We have likely hit the upper edge of the real image\n",
    "        # draw = ImageDraw.Draw(img)\n",
    "        # draw.line((0, i, img.width, i), fill=128)\n",
    "        # img.show()\n",
    "        upper_edge_y = i\n",
    "        break\n",
    "\n",
    "lower_edge_y = None\n",
    "for i in range(img.height - 1, 0, -1):\n",
    "    average_pixel_rgb = sum(img.getpixel((center_x, i))) / 3\n",
    "    # print (average_pixel_rgb)\n",
    "    if not (155 < average_pixel_rgb < 170):\n",
    "        # We have likely hit the lower edge of the real image\n",
    "        # draw = ImageDraw.Draw(img)\n",
    "        # draw.line((0, i, img.width, i), fill=128)\n",
    "        # img.show()\n",
    "        lower_edge_y = i\n",
    "        break\n",
    "        \n",
    "right_edge_x = None\n",
    "for i in range(img.width - 1, 0, -1):\n",
    "    average_pixel_rgb = sum(img.getpixel((i, center_y))) / 3\n",
    "    # print (average_pixel_rgb)\n",
    "    if not (155 < average_pixel_rgb < 170):\n",
    "        # We have likely hit the left edge of the real image\n",
    "        # draw = ImageDraw.Draw(img)\n",
    "        # draw.line((i, 0, i, img.height), fill=128)\n",
    "        # img.show()\n",
    "        right_edge_x = i\n",
    "        break\n",
    "        \n",
    "# TODO: Find where the sciency colorgram-thing ends and left gray area begins, from there do regular detection"
   ]
  },
  {
   "cell_type": "code",
   "execution_count": null,
   "metadata": {},
   "outputs": [],
   "source": []
  }
 ],
 "metadata": {
  "kernelspec": {
   "display_name": "Python 2",
   "language": "python",
   "name": "python2"
  },
  "language_info": {
   "codemirror_mode": {
    "name": "ipython",
    "version": 2
   },
   "file_extension": ".py",
   "mimetype": "text/x-python",
   "name": "python",
   "nbconvert_exporter": "python",
   "pygments_lexer": "ipython2",
   "version": "2.7.6"
  }
 },
 "nbformat": 4,
 "nbformat_minor": 0
}
