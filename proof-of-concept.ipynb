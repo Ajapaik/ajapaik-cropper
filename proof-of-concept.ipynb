{
 "cells": [
  {
   "cell_type": "code",
   "execution_count": 6,
   "metadata": {},
   "outputs": [],
   "source": [
    "from os import fsencode, listdir, fsdecode\n",
    "from PIL import Image, ImageDraw\n",
    "\n",
    "directory = fsencode('images')\n",
    "for file in listdir(directory)[:1]:\n",
    "    filename = fsdecode(file)\n",
    "    img = Image.open('images/' + filename)\n",
    "    # Sample 10 pixels from where there should always be solid background\n",
    "    samples = 0\n",
    "    for i in range(1000, 1010):\n",
    "        samples += sum(img.getpixel((i, 100))) / 3\n",
    "    sample_average = samples / 10\n",
    "    # print('Sample average is {}'.format(sample_average))\n",
    "    center_x = int(img.width / 2)\n",
    "    center_y = int(img.height / 2)\n",
    "    upper_edge_y = None\n",
    "    for i in range(0, img.height):\n",
    "        average_pixel_rgb = sum(img.getpixel((center_x, i))) / 3\n",
    "        # print (average_pixel_rgb)\n",
    "        if not (sample_average * 0.95 < average_pixel_rgb < sample_average * 1.05):\n",
    "            # We have likely hit the upper edge of the real image\n",
    "            draw = ImageDraw.Draw(img)\n",
    "            draw.line((0, i, img.width, i), fill=128)\n",
    "            # img.show()\n",
    "            upper_edge_y = i\n",
    "            break\n",
    "    \n",
    "    lower_edge_y = None\n",
    "    for i in range(img.height - 1, 0, -1):\n",
    "        average_pixel_rgb = sum(img.getpixel((center_x, i))) / 3\n",
    "        # print (average_pixel_rgb)\n",
    "        if not (155 < average_pixel_rgb < 170):\n",
    "            # We have likely hit the lower edge of the real image\n",
    "            draw = ImageDraw.Draw(img)\n",
    "            draw.line((0, i, img.width, i), fill=128)\n",
    "            # img.show()\n",
    "            lower_edge_y = i\n",
    "            break\n",
    "            \n",
    "    right_edge_x = None\n",
    "    for i in range(img.width - 1, 0, -1):\n",
    "        average_pixel_rgb = sum(img.getpixel((i, center_y))) / 3\n",
    "        # print (average_pixel_rgb)\n",
    "        if not (155 < average_pixel_rgb < 170):\n",
    "            # We have likely hit the left edge of the real image\n",
    "            draw = ImageDraw.Draw(img)\n",
    "            draw.line((i, 0, i, img.height), fill=128)\n",
    "            # img.show()\n",
    "            right_edge_x = i\n",
    "            break\n",
    "    \n",
    "    img.show()\n",
    "            \n",
    "    # TODO: Find where the sciency colorgram-thing ends and left gray area begins, from there do regular detection\n"
   ]
  },
  {
   "cell_type": "code",
   "execution_count": 2,
   "metadata": {},
   "outputs": [],
   "source": []
  },
  {
   "cell_type": "code",
   "execution_count": null,
   "metadata": {},
   "outputs": [],
   "source": []
  }
 ],
 "metadata": {
  "kernelspec": {
   "display_name": "Python 2",
   "language": "python",
   "name": "python2"
  },
  "language_info": {
   "codemirror_mode": {
    "name": "ipython",
    "version": 2
   },
   "file_extension": ".py",
   "mimetype": "text/x-python",
   "name": "python",
   "nbconvert_exporter": "python",
   "pygments_lexer": "ipython2",
   "version": "2.7.6"
  }
 },
 "nbformat": 4,
 "nbformat_minor": 0
}
