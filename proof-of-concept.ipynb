{
 "cells": [
  {
   "cell_type": "code",
   "execution_count": 1,
   "metadata": {},
   "outputs": [
    {
     "name": "stdout",
     "output_type": "stream",
     "text": [
      "IMG_3125.jpg\nIMG_1926.jpg\n"
     ]
    },
    {
     "name": "stdout",
     "output_type": "stream",
     "text": [
      "None\n"
     ]
    },
    {
     "ename": "error",
     "evalue": "OpenCV(3.4.1) /io/opencv/modules/imgproc/src/drawing.cpp:2612: error: (-215) reader.ptr != __null in function cvDrawContours\n",
     "traceback": [
      "\u001b[0;31m---------------------------------------------------------------------------\u001b[0m",
      "\u001b[0;31merror\u001b[0m                                     Traceback (most recent call last)",
      "\u001b[0;32m<ipython-input-1-ca5ee5596de0>\u001b[0m in \u001b[0;36m<module>\u001b[0;34m()\u001b[0m\n\u001b[1;32m     59\u001b[0m                 \u001b[0;32mbreak\u001b[0m\u001b[0;34m\u001b[0m\u001b[0m\n\u001b[1;32m     60\u001b[0m         \u001b[0mprint\u001b[0m\u001b[0;34m(\u001b[0m\u001b[0mimage_contour\u001b[0m\u001b[0;34m)\u001b[0m\u001b[0;34m\u001b[0m\u001b[0m\n\u001b[0;32m---> 61\u001b[0;31m         \u001b[0mcv2\u001b[0m\u001b[0;34m.\u001b[0m\u001b[0mdrawContours\u001b[0m\u001b[0;34m(\u001b[0m\u001b[0mimage\u001b[0m\u001b[0;34m,\u001b[0m \u001b[0;34m[\u001b[0m\u001b[0mimage_contour\u001b[0m\u001b[0;34m]\u001b[0m\u001b[0;34m,\u001b[0m \u001b[0;34m-\u001b[0m\u001b[0;36m1\u001b[0m\u001b[0;34m,\u001b[0m \u001b[0;34m(\u001b[0m\u001b[0;36m0\u001b[0m\u001b[0;34m,\u001b[0m \u001b[0;36m255\u001b[0m\u001b[0;34m,\u001b[0m \u001b[0;36m0\u001b[0m\u001b[0;34m)\u001b[0m\u001b[0;34m,\u001b[0m \u001b[0;36m1\u001b[0m\u001b[0;34m)\u001b[0m\u001b[0;34m\u001b[0m\u001b[0m\n\u001b[0m\u001b[1;32m     62\u001b[0m         \u001b[0mcv2\u001b[0m\u001b[0;34m.\u001b[0m\u001b[0mimshow\u001b[0m\u001b[0;34m(\u001b[0m\u001b[0;34m'Contour'\u001b[0m\u001b[0;34m,\u001b[0m \u001b[0mimage\u001b[0m\u001b[0;34m)\u001b[0m\u001b[0;34m\u001b[0m\u001b[0m\n\u001b[1;32m     63\u001b[0m         \u001b[0mcv2\u001b[0m\u001b[0;34m.\u001b[0m\u001b[0mwaitKey\u001b[0m\u001b[0;34m(\u001b[0m\u001b[0;36m100\u001b[0m\u001b[0;34m)\u001b[0m\u001b[0;34m\u001b[0m\u001b[0m\n",
      "\u001b[0;31merror\u001b[0m: OpenCV(3.4.1) /io/opencv/modules/imgproc/src/drawing.cpp:2612: error: (-215) reader.ptr != __null in function cvDrawContours\n"
     ],
     "output_type": "error"
    }
   ],
   "source": [
    "from os import fsencode, listdir, fsdecode\n",
    "\n",
    "import cv2\n",
    "import imutils\n",
    "from PIL import Image\n",
    "\n",
    "import numpy as np\n",
    "\n",
    "directory = fsencode('input')\n",
    "for file in listdir(directory):\n",
    "    filename = fsdecode(file)\n",
    "    print(filename)\n",
    "    if filename == 'IMG_1926.jpg':\n",
    "        file_path = 'input/' + filename\n",
    "        image = cv2.imread(file_path)\n",
    "        # pil_img = Image.open(file_path)\n",
    "        # samples = 0\n",
    "        # for i in range(1000, 1010):\n",
    "        #     print(pil_img.getpixel((i, 10)))\n",
    "        # break\n",
    "        ratio = image.shape[0] / 300.0\n",
    "        image = imutils.resize(image, height=300)\n",
    "        #blurred = cv2.pyrMeanShiftFiltering(image, 31, 91)\n",
    "        gray = cv2.cvtColor(image, cv2.COLOR_BGR2GRAY)\n",
    "        #blurred = cv2.GaussianBlur(gray, (5, 5), 0)\n",
    "        # sigma = 0.88\n",
    "        # v = np.median(blurred)\n",
    "        # lower = int(max(0, (1.0 - sigma) * v))\n",
    "        # upper = int(min(255, (1.0 + sigma) * v))\n",
    "        # lower_mask = [160, 180, 200]\n",
    "        # upper_mask = [170, 185, 210]\n",
    "        # white_mask = cv2.inRange(gray, lower_mask, upper_mask)\n",
    "        #thresh = cv2.threshold(gray, 100, 200, cv2.THRESH_BINARY + cv2.THRESH_OTSU)[1]\n",
    "        # gray = cv2.cvtColor(image, cv2.COLOR_BGR2GRAY)\n",
    "        blurred = cv2.bilateralFilter(gray, 11, 17, 17)\n",
    "        # blur = cv2.GaussianBlur(image, (1, 1), 1000)\n",
    "        # flag, thresh = cv2.threshold(blur, 33, 100, cv2.THRESH_BINARY)\n",
    "        #cv2.imshow('Grayed', thresh)\n",
    "        #cv2.waitKey(100)\n",
    "        edged = cv2.Canny(blurred, 30, 200)\n",
    "        cv2.imshow('Edged', edged)\n",
    "        cv2.waitKey(100)\n",
    "        # lines = cv2.HoughLinesP(edged,1,np.pi/4,15,100,50)\n",
    "        # for x in range(0, len(lines)):\n",
    "        #     for x1,y1,x2,y2 in lines[x]:\n",
    "        #         cv2.line(image,(x1,y1),(x2,y2),(0,255,0),2)\n",
    "        # cv2.imshow('hough',image)\n",
    "        # cv2.waitKey(100)\n",
    "        (returned_edged, contours, hierarchy) = cv2.findContours(edged.copy(), cv2.RETR_LIST,\n",
    "                                                                 cv2.CHAIN_APPROX_NONE)\n",
    "        largest_contours = sorted(contours, key=cv2.contourArea, reverse=True)\n",
    "        # print (largest_contours)\n",
    "        image_contour = None\n",
    "        for c in largest_contours:\n",
    "            peri = cv2.arcLength(c, True)\n",
    "            approx = cv2.approxPolyDP(c, 0.02 * peri, True)\n",
    "            if len(approx) == 4:\n",
    "                image_contour = approx\n",
    "                break\n",
    "        print(image_contour)\n",
    "        cv2.drawContours(image, [image_contour], -1, (0, 255, 0), 1)\n",
    "        cv2.imshow('Contour', image)\n",
    "        cv2.waitKey(100)\n",
    "        crop_x_min = min(image_contour[0][0][0], image_contour[3][0][0]) * ratio\n",
    "        crop_x_max = max(image_contour[1][0][0], image_contour[2][0][0]) * ratio\n",
    "        crop_y_min = min(image_contour[0][0][1], image_contour[1][0][1]) * ratio\n",
    "        crop_y_max = max(image_contour[2][0][1], image_contour[3][0][1]) * ratio\n",
    "        try:\n",
    "            original = Image.open(file_path)\n",
    "            cropped = original.crop(\n",
    "                (crop_x_min, crop_y_min, min(crop_x_max, original.size[0]), min(crop_y_max, original.size[1])))\n",
    "            cropped.save('output/' + filename)\n",
    "        except Exception:\n",
    "            pass\n"
   ]
  },
  {
   "cell_type": "code",
   "execution_count": 1,
   "metadata": {},
   "outputs": [],
   "source": []
  },
  {
   "cell_type": "code",
   "execution_count": null,
   "metadata": {},
   "outputs": [],
   "source": []
  }
 ],
 "metadata": {
  "kernelspec": {
   "display_name": "Python 2",
   "language": "python",
   "name": "python2"
  },
  "language_info": {
   "codemirror_mode": {
    "name": "ipython",
    "version": 2
   },
   "file_extension": ".py",
   "mimetype": "text/x-python",
   "name": "python",
   "nbconvert_exporter": "python",
   "pygments_lexer": "ipython2",
   "version": "2.7.6"
  }
 },
 "nbformat": 4,
 "nbformat_minor": 0
}
