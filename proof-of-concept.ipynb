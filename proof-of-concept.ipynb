{
 "cells": [
  {
   "cell_type": "code",
   "execution_count": 12,
   "metadata": {},
   "outputs": [
    {
     "name": "stdout",
     "output_type": "stream",
     "text": [
      "[[[ 62  10]]\n\n [[421   8]]\n\n [[425 259]]\n\n [[ 64 260]]]\n714.24 92.16 4896.0 2995.2\n"
     ]
    }
   ],
   "source": [
    "from os import fsencode, listdir, fsdecode\n",
    "from math import inf\n",
    "\n",
    "import cv2\n",
    "import imutils\n",
    "import numpy as np\n",
    "\n",
    "directory = fsencode('input')\n",
    "for file in listdir(directory)[:1]:\n",
    "    filename = fsdecode(file)\n",
    "    image = cv2.imread('input/' + filename)\n",
    "    ratio = image.shape[0] / 300.0\n",
    "    orig = image.copy()\n",
    "    image = imutils.resize(image, height=300)\n",
    "    edged = cv2.Canny(image, 0, 200)\n",
    "    (returned_edged, contours, hierarchy) = cv2.findContours(edged.copy(), cv2.RETR_TREE, cv2.CHAIN_APPROX_SIMPLE)\n",
    "    largest_contours = sorted(contours, key=cv2.contourArea, reverse=True)[:10]\n",
    "    image_contour = None\n",
    "    for c in largest_contours:\n",
    "        peri = cv2.arcLength(c, True)\n",
    "        approx = cv2.approxPolyDP(c, 0.02 * peri, True)\n",
    "        if len(approx) == 4:\n",
    "            image_contour = approx\n",
    "            break\n",
    "    # print (image_contour)\n",
    "    # max_x = 0\n",
    "    # max_y = 0\n",
    "    # min_x = inf\n",
    "    # min_y = inf\n",
    "    # for point_array in image_contour:\n",
    "    #     point = point_array[0]\n",
    "    #     if point[0] > max_x:\n",
    "    #         max_x = point[0]\n",
    "    #     if point[1] > max_y:\n",
    "    #         max_y = point[1]\n",
    "    #     if point[0] < min_x:\n",
    "    #         min_x = point[0]\n",
    "    #     if point[1] < min_y:\n",
    "    #         min_y = point[1]\n",
    "    # print(min_x * ratio, min_y * ratio, max_x * ratio, max_y * ratio)"
   ]
  },
  {
   "cell_type": "code",
   "execution_count": null,
   "metadata": {},
   "outputs": [],
   "source": []
  }
 ],
 "metadata": {
  "kernelspec": {
   "display_name": "Python 2",
   "language": "python",
   "name": "python2"
  },
  "language_info": {
   "codemirror_mode": {
    "name": "ipython",
    "version": 2
   },
   "file_extension": ".py",
   "mimetype": "text/x-python",
   "name": "python",
   "nbconvert_exporter": "python",
   "pygments_lexer": "ipython2",
   "version": "2.7.6"
  }
 },
 "nbformat": 4,
 "nbformat_minor": 0
}
